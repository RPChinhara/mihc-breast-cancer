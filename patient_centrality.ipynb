{
 "cells": [
  {
   "cell_type": "code",
   "execution_count": 1,
   "metadata": {},
   "outputs": [],
   "source": [
    "import networkx as nx\n",
    "import matplotlib.pyplot as plt\n",
    "import seaborn as sns\n",
    "from statistics import mean\n",
    "\n",
    "sns.set_theme()"
   ]
  },
  {
   "cell_type": "code",
   "execution_count": 2,
   "metadata": {},
   "outputs": [],
   "source": [
    "G = nx.read_gml('patients_gml/P19.gml')"
   ]
  },
  {
   "cell_type": "markdown",
   "metadata": {},
   "source": [
    "Mixing Score - $\\frac{immune-to-tumor}{immune-to-immune}$\n",
    "\n",
    "patients with less than 250 immune cells - cold\n",
    "\n",
    "patients with mixing score < 0.22 - compartmentalized\n",
    "\n",
    "patients with mixing score > 0.22 - mixed"
   ]
  },
  {
   "cell_type": "code",
   "execution_count": 3,
   "metadata": {},
   "outputs": [],
   "source": [
    "# Illustration required\n",
    "\n",
    "def get_mixing_score(G):\n",
    "    number_of_immune_cells = sum(1 for node in G.nodes() if G.nodes[node]['type'] in ['Helper T cell', 'Killer T cell', 'T cell', 'B cell', 'Macrophage'])\n",
    "\n",
    "    if number_of_immune_cells < 250:\n",
    "        return -1\n",
    "\n",
    "    immune_to_tumor = sum(1 for u, v in G.edges() if (G.nodes[u]['type'] == 'Tumor' and G.nodes[v]['type'] in ['Helper T cell', 'Killer T cell', 'T cell', 'B cell', 'Macrophage']) or (G.nodes[v]['type'] == 'Tumor' and G.nodes[u]['type'] in ['Helper T cell', 'Killer T cell', 'T cell', 'B cell', 'Macrophage']))\n",
    "\n",
    "    immune_to_immune = sum(1 for u, v in G.edges() if (G.nodes[u]['type'] in ['Helper T cell', 'Killer T cell', 'T cell', 'B cell', 'Macrophage'] and G.nodes[v]['type'] in ['Helper T cell', 'Killer T cell', 'T cell', 'B cell', 'Macrophage']))\n",
    "\n",
    "    return immune_to_tumor / immune_to_immune"
   ]
  },
  {
   "cell_type": "code",
   "execution_count": 4,
   "metadata": {},
   "outputs": [
    {
     "name": "stdout",
     "output_type": "stream",
     "text": [
      "Mixing Score: -1.00\n",
      "Patient is cold\n"
     ]
    }
   ],
   "source": [
    "mixing_score = get_mixing_score(G)\n",
    "print(f\"Mixing Score: {mixing_score:.2f}\")\n",
    "\n",
    "if mixing_score == -1:\n",
    "    print('Patient is cold')\n",
    "elif mixing_score < 0.22:\n",
    "    print('Patient is compartmentalized')\n",
    "else:\n",
    "    print('Patient is mixed')"
   ]
  },
  {
   "cell_type": "markdown",
   "metadata": {},
   "source": [
    "Network Centrality Measures used: Network Paper\t\n",
    "\n",
    "1. Degree - Number of edges/nodes - degree distribution\n",
    "\t- Cell type specific node degrees created by separating nodes by cell type\n",
    "\t- Mean degree of each cell type - see if:\n",
    "\t\t- Stromal cells degree lower than tumor degree - means more interactions of tumor cells with other cells than stromal cell interactions\n",
    "\t\t- Lymphocytes have more spread out degree distribution - mixture of connection patterns\n",
    "\n",
    "2. Clustering Coefficient - $\\frac{\\text{No. of closed triplet}}{\\text{No. of all triplets}}$. See if:\n",
    "\t- Clustering coefficient of stromal cells - higher variability than Cancer and immune cells \n",
    "\n",
    "3. Stromal Clustering - Average CC of stromal cells in a tumor, only considering the stromal neighbors of stromal cells\n",
    "\n",
    "4. Stromal Barrier - Count of the number of stromal cells that a lymphocyte has to cross to reach a cancer cluster\n",
    "\t- Overall Stromal Barrier - The average of the individual stromal barriers of lymphocytes in the sample\n",
    "\t- Stromal clustering and Stromal barrier: See if inversely correlated with lymphocyte percentage and positively correlated with stromal percentage\n",
    "\n",
    "5. Betweenness Centrality - Measures the network flow or traffic in a communication network based on shortest paths\n",
    "\t- For each type of cell, betweenness computed and averaged to represent BC of this cell type in the network\n",
    "\n",
    "6. Relative percentages of different cell types in each sample\n",
    "\n",
    "7. See if there are any correlations between the occurrence of different IC subtypes:\n",
    "\t- Do T cells correlate with B cells\n",
    "\t- Do macrophages correlate with endothelium cells"
   ]
  },
  {
   "cell_type": "code",
   "execution_count": 5,
   "metadata": {},
   "outputs": [],
   "source": [
    "# fig, axs = plt.subplots(2, 3, figsize=(12,8))\n",
    "# types_of_nodes = [ 'Whole', 'Tumor', 'B cell', 'CD3 (Green #2)', 'CD68 (NarrownRed)', 'Region*']\n",
    "\n",
    "# for i, ax in enumerate(axs.flat):\n",
    "#     degree_sequence = []\n",
    "#     if i == 0:\n",
    "#         degree_sequence = [d for _, d in G.degree()]\n",
    "#     else:\n",
    "#         degree_sequence = [d for n, d in G.degree() if G.nodes[n]['type'] == types_of_nodes[i]]\n",
    "#     ax.hist(degree_sequence, bins=range(max(degree_sequence) + 2), align='left', rwidth=0.8)\n",
    "#     ax.set_title(f'{types_of_nodes[i]}')\n",
    "\n",
    "# plt.show()"
   ]
  },
  {
   "cell_type": "code",
   "execution_count": 6,
   "metadata": {},
   "outputs": [],
   "source": [
    "stroma_cc = nx.clustering(G, nodes=[node for node in G.nodes() if G.nodes[node]['type'] == 'Other'])"
   ]
  },
  {
   "cell_type": "code",
   "execution_count": 7,
   "metadata": {},
   "outputs": [
    {
     "name": "stdout",
     "output_type": "stream",
     "text": [
      "Average CC of Stroma (only counting stromal neighbours): 0.62\n"
     ]
    }
   ],
   "source": [
    "stroma_subgraph = G.subgraph([node for node in G.nodes() if G.nodes[node]['type'] == 'Other'])\n",
    "avg_stroma_cc = nx.average_clustering(stroma_subgraph, nodes=[node for node in G.nodes() if G.nodes[node]['type'] == 'Other'])\n",
    "print(f'Average CC of Stroma (only counting stromal neighbours): {avg_stroma_cc:.2f}')"
   ]
  },
  {
   "cell_type": "markdown",
   "metadata": {},
   "source": [
    "Stromal Barrier"
   ]
  },
  {
   "cell_type": "code",
   "execution_count": 8,
   "metadata": {},
   "outputs": [],
   "source": [
    "b_cells = [node for node, data in G.nodes(data=True) if data.get('type') == 'B cell']\n",
    "tumor_nodes = [node for node, data in G.nodes(data=True) if data.get('type') == 'Tumor']"
   ]
  },
  {
   "cell_type": "code",
   "execution_count": 9,
   "metadata": {},
   "outputs": [
    {
     "name": "stdout",
     "output_type": "stream",
     "text": [
      "{'2825': {'734': 2}}\n",
      "{'2825': {'734': 2}, '2826': {'734': 2}}\n"
     ]
    }
   ],
   "source": [
    "shortest_paths = {}\n",
    "closest_tumor = None\n",
    "closest_path = 1000000\n",
    "\n",
    "for b_cell in b_cells:\n",
    "    shortest_paths[b_cell] = {}\n",
    "    \n",
    "    for tumor_node in tumor_nodes:\n",
    "        try:\n",
    "            length = nx.shortest_path_length(G, source=b_cell, target=tumor_node)\n",
    "        except:\n",
    "            continue\n",
    "\n",
    "        if length < closest_path and length > 1:\n",
    "                closest_path = length\n",
    "                closest_tumor = tumor_node\n",
    "    \n",
    "    shortest_paths[b_cell] = {closest_tumor: closest_path}\n",
    "    print(shortest_paths)"
   ]
  },
  {
   "cell_type": "code",
   "execution_count": 10,
   "metadata": {},
   "outputs": [
    {
     "name": "stdout",
     "output_type": "stream",
     "text": [
      "Average number of 'Stroma' nodes in the path for all B cells: 0.5\n"
     ]
    }
   ],
   "source": [
    "num_other_nodes = {}\n",
    "for b_cell, paths in shortest_paths.items():\n",
    "    num_other_nodes[b_cell] = {}\n",
    "    for tumor_node, length in paths.items():\n",
    "        path = nx.shortest_path(G, source=b_cell, target=tumor_node)\n",
    "        num_other = sum(1 for node in path if G.nodes[node]['type'] == 'Other')   # Subtract 1 to exclude the starting 'B cell'\n",
    "        num_other_nodes[b_cell][tumor_node] = num_other\n",
    "# Find average number of 'Other' nodes for all B cells\n",
    "\n",
    "avg_num_other_nodes = sum(sum(num_other_nodes[b_cell].values()) for b_cell in num_other_nodes) / len(num_other_nodes)\n",
    "\n",
    "print(\"Average number of 'Stroma' nodes in the path for all B cells:\", avg_num_other_nodes)"
   ]
  },
  {
   "cell_type": "markdown",
   "metadata": {},
   "source": [
    "Betweenness Centrality"
   ]
  },
  {
   "cell_type": "code",
   "execution_count": 11,
   "metadata": {},
   "outputs": [],
   "source": [
    "types_of_nodes = ['Helper T cell', 'Killer T cell', 'T cell', 'B cell', 'Macrophage', 'Other', 'Tumor']\n",
    "avg_centrality = {}\n",
    "\n",
    "for node_type in types_of_nodes:\n",
    "    G_subgraph = G.subgraph(nodes=[node for node, data in G.nodes(data=True) if data.get('type') == node_type])\n",
    "    betweenness_centrality = nx.betweenness_centrality(G_subgraph)\n",
    "    avg_centrality[node_type] = mean(betweenness_centrality.values())"
   ]
  },
  {
   "cell_type": "code",
   "execution_count": 12,
   "metadata": {},
   "outputs": [
    {
     "name": "stdout",
     "output_type": "stream",
     "text": [
      "{'Helper T cell': 0.0, 'Killer T cell': 0.0, 'T cell': 0.0, 'B cell': 0.0, 'Macrophage': 0.00010426527280459865, 'Other': 0.009677892749761647, 'Tumor': 0.01699290405167136}\n"
     ]
    }
   ],
   "source": [
    "print(avg_centrality)"
   ]
  }
 ],
 "metadata": {
  "kernelspec": {
   "display_name": "mihc-breast-cancer",
   "language": "python",
   "name": "python3"
  },
  "language_info": {
   "codemirror_mode": {
    "name": "ipython",
    "version": 3
   },
   "file_extension": ".py",
   "mimetype": "text/x-python",
   "name": "python",
   "nbconvert_exporter": "python",
   "pygments_lexer": "ipython3",
   "version": "3.10.14"
  }
 },
 "nbformat": 4,
 "nbformat_minor": 2
}
